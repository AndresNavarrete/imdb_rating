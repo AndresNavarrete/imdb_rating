{
 "metadata": {
  "language_info": {
   "codemirror_mode": {
    "name": "ipython",
    "version": 3
   },
   "file_extension": ".py",
   "mimetype": "text/x-python",
   "name": "python",
   "nbconvert_exporter": "python",
   "pygments_lexer": "ipython3",
   "version": "3.9.9-final"
  },
  "orig_nbformat": 2,
  "kernelspec": {
   "name": "python3",
   "display_name": "Python 3.9.9 64-bit",
   "metadata": {
    "interpreter": {
     "hash": "ac2eaa0ea0ebeafcc7822e65e46aa9d4f966f30b695406963e145ea4a91cd4fc"
    }
   }
  }
 },
 "nbformat": 4,
 "nbformat_minor": 2,
 "cells": [
  {
   "cell_type": "code",
   "execution_count": 9,
   "metadata": {},
   "outputs": [],
   "source": [
    "import pandas as pd \n",
    "import numpy as np\n",
    "import json"
   ]
  },
  {
   "source": [
    "First, we will load de dataset using pandas"
   ],
   "cell_type": "markdown",
   "metadata": {}
  },
  {
   "cell_type": "code",
   "execution_count": 200,
   "metadata": {},
   "outputs": [],
   "source": [
    "def getDatabase():\n",
    "    credits = pd.read_csv('data/tmdb_5000_credits.csv')\n",
    "    movies = pd.read_csv('data/tmdb_5000_movies.csv')\n",
    "\n",
    "    credits.columns = ['id','tittle','cast','crew']\n",
    "    movies = movies.merge(credits,on='id')\n",
    "    return movies\n",
    "\n",
    "movies = getDatabase()\n"
   ]
  },
  {
   "source": [
    "Clean data. Remove some useless columns and get a clean list of genres, crew members, cast and keywords.\n"
   ],
   "cell_type": "markdown",
   "metadata": {}
  },
  {
   "cell_type": "code",
   "execution_count": 201,
   "metadata": {},
   "outputs": [
    {
     "output_type": "execute_result",
     "data": {
      "text/plain": [
       "       id                                     title original_language  \\\n",
       "0   19995                                    Avatar                en   \n",
       "1     285  Pirates of the Caribbean: At World's End                en   \n",
       "2  206647                                   Spectre                en   \n",
       "\n",
       "      budget  popularity  runtime release_date  \\\n",
       "0  237000000  150.437577    162.0   2009-12-10   \n",
       "1  300000000  139.082615    169.0   2007-05-19   \n",
       "2  245000000  107.376788    148.0   2015-10-26   \n",
       "\n",
       "                                         genres  \\\n",
       "0  [action, adventure, fantasy, sciencefiction]   \n",
       "1                  [adventure, fantasy, action]   \n",
       "2                    [action, adventure, crime]   \n",
       "\n",
       "                                            keywords  \\\n",
       "0  [cultureclash, future, spacewar, spacecolony, ...   \n",
       "1  [ocean, drugabuse, exoticisland, eastindiatrad...   \n",
       "2  [spy, basedonnovel, secretagent, sequel, mi6, ...   \n",
       "\n",
       "                                                cast  \\\n",
       "0  [samworthington, zoesaldana, sigourneyweaver, ...   \n",
       "1  [johnnydepp, orlandobloom, keiraknightley, ste...   \n",
       "2  [danielcraig, christophwaltz, léaseydoux, ralp...   \n",
       "\n",
       "                                                crew  vote_count  vote_average  \n",
       "0  [stephene.rivkin, rickcarter, christopherboyes...       11800           7.2  \n",
       "1  [dariuszwolski, goreverbinski, jerrybruckheime...        4500           6.9  \n",
       "2  [thomasnewman, sammendes, annapinnock, johnlog...        4466           6.3  "
      ],
      "text/html": "<div>\n<style scoped>\n    .dataframe tbody tr th:only-of-type {\n        vertical-align: middle;\n    }\n\n    .dataframe tbody tr th {\n        vertical-align: top;\n    }\n\n    .dataframe thead th {\n        text-align: right;\n    }\n</style>\n<table border=\"1\" class=\"dataframe\">\n  <thead>\n    <tr style=\"text-align: right;\">\n      <th></th>\n      <th>id</th>\n      <th>title</th>\n      <th>original_language</th>\n      <th>budget</th>\n      <th>popularity</th>\n      <th>runtime</th>\n      <th>release_date</th>\n      <th>genres</th>\n      <th>keywords</th>\n      <th>cast</th>\n      <th>crew</th>\n      <th>vote_count</th>\n      <th>vote_average</th>\n    </tr>\n  </thead>\n  <tbody>\n    <tr>\n      <th>0</th>\n      <td>19995</td>\n      <td>Avatar</td>\n      <td>en</td>\n      <td>237000000</td>\n      <td>150.437577</td>\n      <td>162.0</td>\n      <td>2009-12-10</td>\n      <td>[action, adventure, fantasy, sciencefiction]</td>\n      <td>[cultureclash, future, spacewar, spacecolony, ...</td>\n      <td>[samworthington, zoesaldana, sigourneyweaver, ...</td>\n      <td>[stephene.rivkin, rickcarter, christopherboyes...</td>\n      <td>11800</td>\n      <td>7.2</td>\n    </tr>\n    <tr>\n      <th>1</th>\n      <td>285</td>\n      <td>Pirates of the Caribbean: At World's End</td>\n      <td>en</td>\n      <td>300000000</td>\n      <td>139.082615</td>\n      <td>169.0</td>\n      <td>2007-05-19</td>\n      <td>[adventure, fantasy, action]</td>\n      <td>[ocean, drugabuse, exoticisland, eastindiatrad...</td>\n      <td>[johnnydepp, orlandobloom, keiraknightley, ste...</td>\n      <td>[dariuszwolski, goreverbinski, jerrybruckheime...</td>\n      <td>4500</td>\n      <td>6.9</td>\n    </tr>\n    <tr>\n      <th>2</th>\n      <td>206647</td>\n      <td>Spectre</td>\n      <td>en</td>\n      <td>245000000</td>\n      <td>107.376788</td>\n      <td>148.0</td>\n      <td>2015-10-26</td>\n      <td>[action, adventure, crime]</td>\n      <td>[spy, basedonnovel, secretagent, sequel, mi6, ...</td>\n      <td>[danielcraig, christophwaltz, léaseydoux, ralp...</td>\n      <td>[thomasnewman, sammendes, annapinnock, johnlog...</td>\n      <td>4466</td>\n      <td>6.3</td>\n    </tr>\n  </tbody>\n</table>\n</div>"
     },
     "metadata": {},
     "execution_count": 201
    }
   ],
   "source": [
    "def cleanDatabase(movies):\n",
    "    movies_clean = movies[movies[\"vote_count\"] > 300]\n",
    "    movies_clean[\"genres\"] = movies_clean.apply(lambda row: getValues(row[\"genres\"]), axis = 1)\n",
    "    movies_clean[\"keywords\"] = movies_clean.apply(lambda row: getValues(row[\"keywords\"]), axis = 1)\n",
    "    movies_clean[\"cast\"] = movies_clean.apply(lambda row: getValues(row[\"cast\"]), axis = 1)\n",
    "    movies_clean[\"crew\"] = movies_clean.apply(lambda row: getValues(row[\"crew\"]), axis = 1)\n",
    "\n",
    "    useful_headers = ['id',\n",
    "    'title',\n",
    "    'original_language',\n",
    "    'budget',\n",
    "    'popularity',\n",
    "    'runtime',\n",
    "    'release_date',\n",
    "    'genres',\n",
    "    'keywords',\n",
    "    'cast',\n",
    "    'crew',\n",
    "    'vote_count',\n",
    "    'vote_average']\n",
    "    return movies_clean[useful_headers]\n",
    "\n",
    "\n",
    "def getValues(listOfDict):\n",
    "    listOfDict = json.loads(listOfDict)\n",
    "    output = list()\n",
    "    for dictionary in listOfDict:\n",
    "        name = dictionary[\"name\"]\n",
    "        nameShort = name.lower()\n",
    "        nameShort = nameShort.replace(\" \",\"\")\n",
    "        if nameShort in output:\n",
    "            continue\n",
    "        output.append(nameShort)\n",
    "    return output\n",
    "\n",
    "df = cleanDatabase(movies)\n",
    "df.head(3)"
   ]
  },
  {
   "source": [
    "Get unique genres, cast, crew and keywords. We have a dictionary with the number of times that a specific genre/cast/etc has been used in a movie. \n"
   ],
   "cell_type": "markdown",
   "metadata": {}
  },
  {
   "cell_type": "code",
   "execution_count": 12,
   "metadata": {
    "tags": []
   },
   "outputs": [
    {
     "output_type": "stream",
     "name": "stdout",
     "text": [
      "Genres: 19\nkeywords: 7350\ncrews: 38208\ncasts: 36837\n"
     ]
    }
   ],
   "source": [
    "def getAllElementsFrom(columnName):\n",
    "    output = dict()\n",
    "    for listOfElements in df[columnName]:\n",
    "        for element in listOfElements:\n",
    "            if element in output.keys():\n",
    "                output[element] += 1\n",
    "            else:\n",
    "                output[element] = 1\n",
    "    return output\n",
    "\n",
    "genres = getAllElementsFrom(\"genres\")\n",
    "keys = getAllElementsFrom(\"keywords\")\n",
    "crews = getAllElementsFrom(\"crew\")\n",
    "casts = getAllElementsFrom(\"cast\")\n",
    "\n",
    "print(\"Genres: {}\".format(len(genres)))\n",
    "print(\"keywords: {}\".format(len(keys)))\n",
    "print(\"crews: {}\".format(len(crews)))\n",
    "print(\"casts: {}\".format(len(casts)))"
   ]
  },
  {
   "source": [
    "That's a lot of people. I don't wanna train a model with that amount of columns. Let's filter the relevant information with a bare minimun apparences on the dataset. \n"
   ],
   "cell_type": "markdown",
   "metadata": {}
  },
  {
   "cell_type": "code",
   "execution_count": 13,
   "metadata": {},
   "outputs": [
    {
     "output_type": "stream",
     "name": "stdout",
     "text": [
      "Genres: 17\nkeywords: 132\ncrews: 138\ncasts: 87\n"
     ]
    }
   ],
   "source": [
    "def getShortList(dictionaryCount):\n",
    "    shortList = list()\n",
    "    min_apparences = 20\n",
    "    for key, count in dictionaryCount.items():\n",
    "        if count < min_apparences:\n",
    "            continue\n",
    "        shortList.append(key)\n",
    "    return shortList\n",
    "\n",
    "short_genres = getShortList(genres)\n",
    "short_keys = getShortList(keys)\n",
    "short_crews = getShortList(crews)\n",
    "short_casts = getShortList(casts)\n",
    "\n",
    "print(\"Genres: {}\".format(len(short_genres)))\n",
    "print(\"keywords: {}\".format(len(short_keys)))\n",
    "print(\"crews: {}\".format(len(short_crews)))\n",
    "print(\"casts: {}\".format(len(short_casts)))\n",
    "\n"
   ]
  },
  {
   "source": [
    "That's better. Now, let's add each relevant genre/cast/crew/keyword to the dataset as a binary column.\n"
   ],
   "cell_type": "markdown",
   "metadata": {}
  },
  {
   "cell_type": "code",
   "execution_count": 64,
   "metadata": {},
   "outputs": [],
   "source": [
    "def addBinaryColumnsToDataframe(listOfKeywords, columnName):\n",
    "    for keyword in listOfKeywords:\n",
    "        newColName = \"has_{}\".format(keyword)\n",
    "        df[newColName] = df.apply(lambda row: True if keyword in row[columnName] else False, axis = 1)\n",
    "\n",
    "addBinaryColumnsToDataframe(short_genres, \"genres\")\n",
    "addBinaryColumnsToDataframe(short_keys, \"keywords\")\n",
    "addBinaryColumnsToDataframe(short_crews, \"crew\")\n",
    "addBinaryColumnsToDataframe(short_casts, \"cast\")\n"
   ]
  },
  {
   "source": [
    "Preparing the dataset for being used. First let's get rid of some useless columns and select the vote_average columns as the target.\n"
   ],
   "cell_type": "markdown",
   "metadata": {}
  },
  {
   "cell_type": "code",
   "execution_count": 173,
   "metadata": {},
   "outputs": [],
   "source": [
    "import copy \n",
    "\n",
    "df_test = copy.deepcopy(df)\n",
    "target_name = \"vote_average\"\n",
    "not_usefull_Columns = [\n",
    "    'id',\n",
    "    'release_date',\n",
    "    'genres',\n",
    "    'keywords',\n",
    "    'cast',\n",
    "    'crew']\n",
    "\n",
    "for columnName in not_usefull_Columns:\n",
    "    df_test.pop(columnName)\n",
    "\n",
    "data = df_test.drop(columns=[target_name])\n",
    "target = df_test[target_name]\n",
    "\n",
    "data_train, data_test, target_train, target_test = train_test_split(\n",
    "    data, target, random_state=42)\n",
    "\n"
   ]
  },
  {
   "source": [
    "Feature Scaling with encoders. We have two different encoders: one for categorical variables and other for numerical. Then, we will combine those in a pipeline with a preprocessor. \n"
   ],
   "cell_type": "markdown",
   "metadata": {}
  },
  {
   "cell_type": "code",
   "execution_count": 174,
   "metadata": {},
   "outputs": [],
   "source": [
    "from sklearn.compose import make_column_selector as selector\n",
    "from sklearn.preprocessing import OneHotEncoder, StandardScaler\n",
    "from sklearn.compose import ColumnTransformer\n",
    "\n",
    "\n",
    "float_columns_selector = selector(dtype_include=\"float\")\n",
    "int_columns_selector = selector(dtype_include=\"int\")\n",
    "str_columns_selector = selector(dtype_include=\"object\")\n",
    "bool_columns_selector = selector(dtype_include=\"bool\")\n",
    "\n",
    "numerical_columns = float_columns_selector(data) + int_columns_selector(data)\n",
    "categorical_columns = str_columns_selector(data) + bool_columns_selector(data)\n",
    "\n",
    "categorical_preprocessor = OneHotEncoder(handle_unknown=\"ignore\")\n",
    "numerical_preprocessor = StandardScaler()\n",
    "\n",
    "\n",
    "preprocessor = ColumnTransformer([\n",
    "    ('one-hot-encoder', categorical_preprocessor, categorical_columns),\n",
    "    ('standard_scaler', numerical_preprocessor, numerical_columns)])\n"
   ]
  },
  {
   "cell_type": "code",
   "execution_count": 175,
   "metadata": {},
   "outputs": [],
   "source": [
    "def getFittingSummary(regressor):\n",
    "    predictions = regressor.predict(data_test)\n",
    "    errorsSquared = (predictions - target_test) ** 2\n",
    "    \n",
    "    print('Mean Squared Error:', round(np.mean(errorsSquared), 2), 'degrees.')\n",
    "\n",
    "    score = regressor.score(data_test, target_test)\n",
    "    print('R2:', round(score, 3))"
   ]
  },
  {
   "cell_type": "code",
   "execution_count": 176,
   "metadata": {},
   "outputs": [
    {
     "output_type": "stream",
     "name": "stdout",
     "text": [
      "Decision Tree Regression\n",
      "Mean Squared Error: 0.57 degrees.\n",
      "R2: 0.034\n"
     ]
    }
   ],
   "source": [
    "# Fitting DecisionTreeRegressor to the dataset\n",
    "from sklearn.tree import DecisionTreeRegressor\n",
    "from sklearn.pipeline import make_pipeline\n",
    "\n",
    "print(\"Decision Tree Regression\")\n",
    "regressor = DecisionTreeRegressor(random_state = 0)\n",
    "model = make_pipeline(preprocessor, regressor)\n",
    "model.fit(data_train, target_train)\n",
    "getFittingSummary(model)"
   ]
  },
  {
   "cell_type": "code",
   "execution_count": 177,
   "metadata": {},
   "outputs": [
    {
     "output_type": "stream",
     "name": "stdout",
     "text": [
      "Random Forest Regression\n",
      "Mean Squared Error: 0.27 degrees.\n",
      "R2: 0.536\n"
     ]
    }
   ],
   "source": [
    "# Fitting Random Forest Regression to the dataset\n",
    "from sklearn.ensemble import RandomForestRegressor\n",
    "from sklearn.pipeline import make_pipeline\n",
    "\n",
    "print(\"Random Forest Regression\")\n",
    "regressor = RandomForestRegressor(n_estimators = 100, random_state = 0)\n",
    "model = make_pipeline(preprocessor, regressor))\n",
    "model.fit(data_train, target_train)\n",
    "getFittingSummary(model)"
   ]
  },
  {
   "cell_type": "code",
   "execution_count": 178,
   "metadata": {},
   "outputs": [
    {
     "output_type": "stream",
     "name": "stdout",
     "text": [
      "Support Vector Regression\n",
      "Mean Squared Error: 0.26 degrees.\n",
      "R2: 0.566\n"
     ]
    }
   ],
   "source": [
    "# Fitting SVR to the dataset\n",
    "from sklearn.svm import SVR\n",
    "from sklearn.pipeline import make_pipeline\n",
    "\n",
    "print(\"Support Vector Regression\")\n",
    "regressor = SVR(kernel = 'rbf')\n",
    "model = make_pipeline(preprocessor, regressor)\n",
    "model.fit(data_train, target_train)\n",
    "getFittingSummary(model)"
   ]
  },
  {
   "source": [
    "In summary, we have made some regression models to predict the socre of a movie given de IMDB information, such as crew memenber, cast, genres, budget, among others. \n",
    "\n",
    "The best model of the three tested is the SVR.\n",
    "\n",
    "\n"
   ],
   "cell_type": "markdown",
   "metadata": {}
  },
  {
   "source": [
    "Bonus track: Let's see the predictions over a real set of movies rating on IMDB. Some movies are slighly inacurate, but quite close to the real rating. We predicted that \"Superman Returns\" would be a disaster and that \"The Avengers\" would be a moderate succes. \n",
    "\n",
    "I find these result quite good becouse movies that I love, like \"The Dark Knight Rises\", is predictid with les than 3% of error on its rating."
   ],
   "cell_type": "markdown",
   "metadata": {}
  },
  {
   "cell_type": "code",
   "execution_count": 211,
   "metadata": {
    "tags": []
   },
   "outputs": [
    {
     "output_type": "stream",
     "name": "stdout",
     "text": [
      "Prediction 7.7   Real   7.2    Error 7% \t| Avatar\nPrediction 6.7   Real   6.9    Error 3% \t| Pirates of the Caribbean: At World's End\nPrediction 6.4   Real   6.3    Error 2% \t| Spectre\nPrediction 7.4   Real   7.6    Error 3% \t| The Dark Knight Rises\nPrediction 6.0   Real   6.1    Error 2% \t| John Carter\nPrediction 6.0   Real   5.9    Error 2% \t| Spider-Man 3\nPrediction 6.4   Real   7.4    Error 14% \t| Tangled\nPrediction 6.6   Real   7.3    Error 10% \t| Avengers: Age of Ultron\nPrediction 6.9   Real   7.4    Error 7% \t| Harry Potter and the Half-Blood Prince\nPrediction 6.8   Real   5.7    Error 20% \t| Batman v Superman: Dawn of Justice\nPrediction 5.5   Real   5.4    Error 1% \t| Superman Returns\nPrediction 6.1   Real   6.1    Error 0% \t| Quantum of Solace\nPrediction 7.1   Real   7.0    Error 1% \t| Pirates of the Caribbean: Dead Man's Chest\nPrediction 6.1   Real   5.9    Error 3% \t| The Lone Ranger\nPrediction 6.7   Real   6.5    Error 3% \t| Man of Steel\nPrediction 6.2   Real   6.3    Error 2% \t| The Chronicles of Narnia: Prince Caspian\nPrediction 7.5   Real   7.4    Error 1% \t| The Avengers\nPrediction 6.2   Real   6.4    Error 3% \t| Pirates of the Caribbean: On Stranger Tides\nPrediction 6.1   Real   6.2    Error 1% \t| Men in Black 3\nPrediction 6.8   Real   7.1    Error 4% \t| The Hobbit: The Battle of the Five Armies\nPrediction 6.7   Real   6.5    Error 4% \t| The Amazing Spider-Man\nPrediction 6.0   Real   6.2    Error 4% \t| Robin Hood\nPrediction 6.9   Real   7.6    Error 9% \t| The Hobbit: The Desolation of Smaug\nPrediction 5.7   Real   5.8    Error 2% \t| The Golden Compass\nPrediction 6.8   Real   6.6    Error 3% \t| King Kong\n"
     ]
    }
   ],
   "source": [
    "dataToShow = df_test[:25]\n",
    "predictions = model.predict(dataToShow)\n",
    "real = list(dataToShow[target_name])\n",
    "titles = list(dataToShow['title'])\n",
    "\n",
    "for index, name in enumerate(titles):\n",
    "    observed = real[index]\n",
    "    predicted = predictions[index]\n",
    "    error = 100 * abs(observed - predicted) / observed\n",
    "    print(\"Prediction {}   Real   {}    Error {}% \\t| {}\".format(\n",
    "        round(predicted, 1), \n",
    "        observed,\n",
    "        round(error), \n",
    "        name))\n"
   ]
  }
 ]
}