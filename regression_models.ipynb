{
 "metadata": {
  "language_info": {
   "codemirror_mode": {
    "name": "ipython",
    "version": 3
   },
   "file_extension": ".py",
   "mimetype": "text/x-python",
   "name": "python",
   "nbconvert_exporter": "python",
   "pygments_lexer": "ipython3",
   "version": "3.9.9-final"
  },
  "orig_nbformat": 2,
  "kernelspec": {
   "name": "python3",
   "display_name": "Python 3.9.9 64-bit",
   "metadata": {
    "interpreter": {
     "hash": "ac2eaa0ea0ebeafcc7822e65e46aa9d4f966f30b695406963e145ea4a91cd4fc"
    }
   }
  }
 },
 "nbformat": 4,
 "nbformat_minor": 2,
 "cells": [
  {
   "cell_type": "code",
   "execution_count": 2,
   "metadata": {},
   "outputs": [],
   "source": [
    "import pandas as pd \n",
    "import numpy as np\n",
    "import json"
   ]
  },
  {
   "cell_type": "code",
   "execution_count": 5,
   "metadata": {},
   "outputs": [
    {
     "output_type": "execute_result",
     "data": {
      "text/plain": [
       "      budget                                             genres  \\\n",
       "0  237000000  [{\"id\": 28, \"name\": \"Action\"}, {\"id\": 12, \"nam...   \n",
       "1  300000000  [{\"id\": 12, \"name\": \"Adventure\"}, {\"id\": 14, \"...   \n",
       "2  245000000  [{\"id\": 28, \"name\": \"Action\"}, {\"id\": 12, \"nam...   \n",
       "\n",
       "                                       homepage      id  \\\n",
       "0                   http://www.avatarmovie.com/   19995   \n",
       "1  http://disney.go.com/disneypictures/pirates/     285   \n",
       "2   http://www.sonypictures.com/movies/spectre/  206647   \n",
       "\n",
       "                                            keywords original_language  \\\n",
       "0  [{\"id\": 1463, \"name\": \"culture clash\"}, {\"id\":...                en   \n",
       "1  [{\"id\": 270, \"name\": \"ocean\"}, {\"id\": 726, \"na...                en   \n",
       "2  [{\"id\": 470, \"name\": \"spy\"}, {\"id\": 818, \"name...                en   \n",
       "\n",
       "                             original_title  \\\n",
       "0                                    Avatar   \n",
       "1  Pirates of the Caribbean: At World's End   \n",
       "2                                   Spectre   \n",
       "\n",
       "                                            overview  popularity  \\\n",
       "0  In the 22nd century, a paraplegic Marine is di...  150.437577   \n",
       "1  Captain Barbossa, long believed to be dead, ha...  139.082615   \n",
       "2  A cryptic message from Bond’s past sends him o...  107.376788   \n",
       "\n",
       "                                production_companies  ... runtime  \\\n",
       "0  [{\"name\": \"Ingenious Film Partners\", \"id\": 289...  ...   162.0   \n",
       "1  [{\"name\": \"Walt Disney Pictures\", \"id\": 2}, {\"...  ...   169.0   \n",
       "2  [{\"name\": \"Columbia Pictures\", \"id\": 5}, {\"nam...  ...   148.0   \n",
       "\n",
       "                                    spoken_languages    status  \\\n",
       "0  [{\"iso_639_1\": \"en\", \"name\": \"English\"}, {\"iso...  Released   \n",
       "1           [{\"iso_639_1\": \"en\", \"name\": \"English\"}]  Released   \n",
       "2  [{\"iso_639_1\": \"fr\", \"name\": \"Fran\\u00e7ais\"},...  Released   \n",
       "\n",
       "                                          tagline  \\\n",
       "0                     Enter the World of Pandora.   \n",
       "1  At the end of the world, the adventure begins.   \n",
       "2                           A Plan No One Escapes   \n",
       "\n",
       "                                      title vote_average vote_count  \\\n",
       "0                                    Avatar          7.2      11800   \n",
       "1  Pirates of the Caribbean: At World's End          6.9       4500   \n",
       "2                                   Spectre          6.3       4466   \n",
       "\n",
       "                                     tittle  \\\n",
       "0                                    Avatar   \n",
       "1  Pirates of the Caribbean: At World's End   \n",
       "2                                   Spectre   \n",
       "\n",
       "                                                cast  \\\n",
       "0  [{\"cast_id\": 242, \"character\": \"Jake Sully\", \"...   \n",
       "1  [{\"cast_id\": 4, \"character\": \"Captain Jack Spa...   \n",
       "2  [{\"cast_id\": 1, \"character\": \"James Bond\", \"cr...   \n",
       "\n",
       "                                                crew  \n",
       "0  [{\"credit_id\": \"52fe48009251416c750aca23\", \"de...  \n",
       "1  [{\"credit_id\": \"52fe4232c3a36847f800b579\", \"de...  \n",
       "2  [{\"credit_id\": \"54805967c3a36829b5002c41\", \"de...  \n",
       "\n",
       "[3 rows x 23 columns]"
      ],
      "text/html": "<div>\n<style scoped>\n    .dataframe tbody tr th:only-of-type {\n        vertical-align: middle;\n    }\n\n    .dataframe tbody tr th {\n        vertical-align: top;\n    }\n\n    .dataframe thead th {\n        text-align: right;\n    }\n</style>\n<table border=\"1\" class=\"dataframe\">\n  <thead>\n    <tr style=\"text-align: right;\">\n      <th></th>\n      <th>budget</th>\n      <th>genres</th>\n      <th>homepage</th>\n      <th>id</th>\n      <th>keywords</th>\n      <th>original_language</th>\n      <th>original_title</th>\n      <th>overview</th>\n      <th>popularity</th>\n      <th>production_companies</th>\n      <th>...</th>\n      <th>runtime</th>\n      <th>spoken_languages</th>\n      <th>status</th>\n      <th>tagline</th>\n      <th>title</th>\n      <th>vote_average</th>\n      <th>vote_count</th>\n      <th>tittle</th>\n      <th>cast</th>\n      <th>crew</th>\n    </tr>\n  </thead>\n  <tbody>\n    <tr>\n      <th>0</th>\n      <td>237000000</td>\n      <td>[{\"id\": 28, \"name\": \"Action\"}, {\"id\": 12, \"nam...</td>\n      <td>http://www.avatarmovie.com/</td>\n      <td>19995</td>\n      <td>[{\"id\": 1463, \"name\": \"culture clash\"}, {\"id\":...</td>\n      <td>en</td>\n      <td>Avatar</td>\n      <td>In the 22nd century, a paraplegic Marine is di...</td>\n      <td>150.437577</td>\n      <td>[{\"name\": \"Ingenious Film Partners\", \"id\": 289...</td>\n      <td>...</td>\n      <td>162.0</td>\n      <td>[{\"iso_639_1\": \"en\", \"name\": \"English\"}, {\"iso...</td>\n      <td>Released</td>\n      <td>Enter the World of Pandora.</td>\n      <td>Avatar</td>\n      <td>7.2</td>\n      <td>11800</td>\n      <td>Avatar</td>\n      <td>[{\"cast_id\": 242, \"character\": \"Jake Sully\", \"...</td>\n      <td>[{\"credit_id\": \"52fe48009251416c750aca23\", \"de...</td>\n    </tr>\n    <tr>\n      <th>1</th>\n      <td>300000000</td>\n      <td>[{\"id\": 12, \"name\": \"Adventure\"}, {\"id\": 14, \"...</td>\n      <td>http://disney.go.com/disneypictures/pirates/</td>\n      <td>285</td>\n      <td>[{\"id\": 270, \"name\": \"ocean\"}, {\"id\": 726, \"na...</td>\n      <td>en</td>\n      <td>Pirates of the Caribbean: At World's End</td>\n      <td>Captain Barbossa, long believed to be dead, ha...</td>\n      <td>139.082615</td>\n      <td>[{\"name\": \"Walt Disney Pictures\", \"id\": 2}, {\"...</td>\n      <td>...</td>\n      <td>169.0</td>\n      <td>[{\"iso_639_1\": \"en\", \"name\": \"English\"}]</td>\n      <td>Released</td>\n      <td>At the end of the world, the adventure begins.</td>\n      <td>Pirates of the Caribbean: At World's End</td>\n      <td>6.9</td>\n      <td>4500</td>\n      <td>Pirates of the Caribbean: At World's End</td>\n      <td>[{\"cast_id\": 4, \"character\": \"Captain Jack Spa...</td>\n      <td>[{\"credit_id\": \"52fe4232c3a36847f800b579\", \"de...</td>\n    </tr>\n    <tr>\n      <th>2</th>\n      <td>245000000</td>\n      <td>[{\"id\": 28, \"name\": \"Action\"}, {\"id\": 12, \"nam...</td>\n      <td>http://www.sonypictures.com/movies/spectre/</td>\n      <td>206647</td>\n      <td>[{\"id\": 470, \"name\": \"spy\"}, {\"id\": 818, \"name...</td>\n      <td>en</td>\n      <td>Spectre</td>\n      <td>A cryptic message from Bond’s past sends him o...</td>\n      <td>107.376788</td>\n      <td>[{\"name\": \"Columbia Pictures\", \"id\": 5}, {\"nam...</td>\n      <td>...</td>\n      <td>148.0</td>\n      <td>[{\"iso_639_1\": \"fr\", \"name\": \"Fran\\u00e7ais\"},...</td>\n      <td>Released</td>\n      <td>A Plan No One Escapes</td>\n      <td>Spectre</td>\n      <td>6.3</td>\n      <td>4466</td>\n      <td>Spectre</td>\n      <td>[{\"cast_id\": 1, \"character\": \"James Bond\", \"cr...</td>\n      <td>[{\"credit_id\": \"54805967c3a36829b5002c41\", \"de...</td>\n    </tr>\n  </tbody>\n</table>\n<p>3 rows × 23 columns</p>\n</div>"
     },
     "metadata": {},
     "execution_count": 5
    }
   ],
   "source": [
    "# Get data from dataset\n",
    "\n",
    "def getDatabase():\n",
    "    credits = pd.read_csv('data/tmdb_5000_credits.csv')\n",
    "    movies = pd.read_csv('data/tmdb_5000_movies.csv')\n",
    "\n",
    "    credits.columns = ['id','tittle','cast','crew']\n",
    "    movies = movies.merge(credits,on='id')\n",
    "    return movies\n",
    "\n",
    "movies = getDatabase()\n",
    "movies[:3]"
   ]
  },
  {
   "cell_type": "code",
   "execution_count": 6,
   "metadata": {},
   "outputs": [
    {
     "output_type": "execute_result",
     "data": {
      "text/plain": [
       "       id                                     title original_language  \\\n",
       "0   19995                                    Avatar                en   \n",
       "1     285  Pirates of the Caribbean: At World's End                en   \n",
       "2  206647                                   Spectre                en   \n",
       "\n",
       "      budget  popularity  runtime release_date  \\\n",
       "0  237000000  150.437577    162.0   2009-12-10   \n",
       "1  300000000  139.082615    169.0   2007-05-19   \n",
       "2  245000000  107.376788    148.0   2015-10-26   \n",
       "\n",
       "                                         genres  \\\n",
       "0  [action, adventure, fantasy, sciencefiction]   \n",
       "1                  [adventure, fantasy, action]   \n",
       "2                    [action, adventure, crime]   \n",
       "\n",
       "                                            keywords  \\\n",
       "0  [cultureclash, future, spacewar, spacecolony, ...   \n",
       "1  [ocean, drugabuse, exoticisland, eastindiatrad...   \n",
       "2  [spy, basedonnovel, secretagent, sequel, mi6, ...   \n",
       "\n",
       "                                                cast  \\\n",
       "0  [samworthington, zoesaldana, sigourneyweaver, ...   \n",
       "1  [johnnydepp, orlandobloom, keiraknightley, ste...   \n",
       "2  [danielcraig, christophwaltz, léaseydoux, ralp...   \n",
       "\n",
       "                                                crew  vote_count  vote_average  \n",
       "0  [stephene.rivkin, rickcarter, christopherboyes...       11800           7.2  \n",
       "1  [dariuszwolski, goreverbinski, jerrybruckheime...        4500           6.9  \n",
       "2  [thomasnewman, sammendes, annapinnock, johnlog...        4466           6.3  "
      ],
      "text/html": "<div>\n<style scoped>\n    .dataframe tbody tr th:only-of-type {\n        vertical-align: middle;\n    }\n\n    .dataframe tbody tr th {\n        vertical-align: top;\n    }\n\n    .dataframe thead th {\n        text-align: right;\n    }\n</style>\n<table border=\"1\" class=\"dataframe\">\n  <thead>\n    <tr style=\"text-align: right;\">\n      <th></th>\n      <th>id</th>\n      <th>title</th>\n      <th>original_language</th>\n      <th>budget</th>\n      <th>popularity</th>\n      <th>runtime</th>\n      <th>release_date</th>\n      <th>genres</th>\n      <th>keywords</th>\n      <th>cast</th>\n      <th>crew</th>\n      <th>vote_count</th>\n      <th>vote_average</th>\n    </tr>\n  </thead>\n  <tbody>\n    <tr>\n      <th>0</th>\n      <td>19995</td>\n      <td>Avatar</td>\n      <td>en</td>\n      <td>237000000</td>\n      <td>150.437577</td>\n      <td>162.0</td>\n      <td>2009-12-10</td>\n      <td>[action, adventure, fantasy, sciencefiction]</td>\n      <td>[cultureclash, future, spacewar, spacecolony, ...</td>\n      <td>[samworthington, zoesaldana, sigourneyweaver, ...</td>\n      <td>[stephene.rivkin, rickcarter, christopherboyes...</td>\n      <td>11800</td>\n      <td>7.2</td>\n    </tr>\n    <tr>\n      <th>1</th>\n      <td>285</td>\n      <td>Pirates of the Caribbean: At World's End</td>\n      <td>en</td>\n      <td>300000000</td>\n      <td>139.082615</td>\n      <td>169.0</td>\n      <td>2007-05-19</td>\n      <td>[adventure, fantasy, action]</td>\n      <td>[ocean, drugabuse, exoticisland, eastindiatrad...</td>\n      <td>[johnnydepp, orlandobloom, keiraknightley, ste...</td>\n      <td>[dariuszwolski, goreverbinski, jerrybruckheime...</td>\n      <td>4500</td>\n      <td>6.9</td>\n    </tr>\n    <tr>\n      <th>2</th>\n      <td>206647</td>\n      <td>Spectre</td>\n      <td>en</td>\n      <td>245000000</td>\n      <td>107.376788</td>\n      <td>148.0</td>\n      <td>2015-10-26</td>\n      <td>[action, adventure, crime]</td>\n      <td>[spy, basedonnovel, secretagent, sequel, mi6, ...</td>\n      <td>[danielcraig, christophwaltz, léaseydoux, ralp...</td>\n      <td>[thomasnewman, sammendes, annapinnock, johnlog...</td>\n      <td>4466</td>\n      <td>6.3</td>\n    </tr>\n  </tbody>\n</table>\n</div>"
     },
     "metadata": {},
     "execution_count": 6
    }
   ],
   "source": [
    "# Clean data. Remove some useless columns and get a list of genres, crew members, cast and keywords.\n",
    "\n",
    "def cleanDatabase(movies):\n",
    "    movies_clean = movies[movies[\"vote_count\"] > 300]\n",
    "    movies_clean[\"genres\"] = movies_clean.apply(lambda row: getValues(row[\"genres\"]), axis = 1)\n",
    "    movies_clean[\"keywords\"] = movies_clean.apply(lambda row: getValues(row[\"keywords\"]), axis = 1)\n",
    "    movies_clean[\"cast\"] = movies_clean.apply(lambda row: getValues(row[\"cast\"]), axis = 1)\n",
    "    movies_clean[\"crew\"] = movies_clean.apply(lambda row: getValues(row[\"crew\"]), axis = 1)\n",
    "\n",
    "    useful_headers = ['id',\n",
    "    'title',\n",
    "    'original_language',\n",
    "    'budget',\n",
    "    'popularity',\n",
    "    'runtime',\n",
    "    'release_date',\n",
    "    'genres',\n",
    "    'keywords',\n",
    "    'cast',\n",
    "    'crew',\n",
    "    'vote_count',\n",
    "    'vote_average']\n",
    "    return movies_clean[useful_headers]\n",
    "\n",
    "\n",
    "def getValues(listOfDict):\n",
    "    listOfDict = json.loads(listOfDict)\n",
    "    output = list()\n",
    "    for dictionary in listOfDict:\n",
    "        name = dictionary[\"name\"]\n",
    "        nameShort = name.lower()\n",
    "        nameShort = nameShort.replace(\" \",\"\")\n",
    "        if nameShort in output:\n",
    "            continue\n",
    "        output.append(nameShort)\n",
    "    return output\n",
    "\n",
    "df = cleanDatabase(movies)\n",
    "df[:3]"
   ]
  },
  {
   "cell_type": "code",
   "execution_count": 62,
   "metadata": {
    "tags": []
   },
   "outputs": [
    {
     "output_type": "stream",
     "name": "stdout",
     "text": [
      "Genres: 19\nkeys: 7350\ncrews: 38208\ncasts: 36837\n"
     ]
    }
   ],
   "source": [
    "# Get unique genres, cast, crew and keywords. We have a dictionary with the number of times that a specific genre/cast/etc has been used in a movie. \n",
    "\n",
    "def getAllElementsFrom(columnName):\n",
    "    output = dict()\n",
    "    for listOfElements in df[columnName]:\n",
    "        for element in listOfElements:\n",
    "            if element in output.keys():\n",
    "                output[element] += 1\n",
    "            else:\n",
    "                output[element] = 1\n",
    "    return output\n",
    "\n",
    "genres = getAllElementsFrom(\"genres\")\n",
    "keys = getAllElementsFrom(\"keywords\")\n",
    "crews = getAllElementsFrom(\"crew\")\n",
    "casts = getAllElementsFrom(\"cast\")\n",
    "\n",
    "print(\"Genres: {}\".format(len(genres)))\n",
    "print(\"keywords: {}\".format(len(keys)))\n",
    "print(\"crews: {}\".format(len(crews)))\n",
    "print(\"casts: {}\".format(len(casts)))"
   ]
  },
  {
   "cell_type": "code",
   "execution_count": 63,
   "metadata": {},
   "outputs": [
    {
     "output_type": "stream",
     "name": "stdout",
     "text": [
      "Genres: 17\nkeys: 132\ncrews: 138\ncasts: 87\n"
     ]
    }
   ],
   "source": [
    "# That's a lot of people. Let's filter the relevant information with a bare minimun apparences on the dataset. \n",
    "\n",
    "def getShortList(dictionaryCount):\n",
    "    shortList = list()\n",
    "    min_apparences = 20\n",
    "    for key, count in dictionaryCount.items():\n",
    "        if count < min_apparences:\n",
    "            continue\n",
    "        shortList.append(key)\n",
    "    return shortList\n",
    "\n",
    "short_genres = getShortList(genres)\n",
    "short_keys = getShortList(keys)\n",
    "short_crews = getShortList(crews)\n",
    "short_casts = getShortList(casts)\n",
    "\n",
    "print(\"Genres: {}\".format(len(short_genres)))\n",
    "print(\"keywords: {}\".format(len(short_keys)))\n",
    "print(\"crews: {}\".format(len(short_crews)))\n",
    "print(\"casts: {}\".format(len(short_casts)))\n",
    "\n"
   ]
  },
  {
   "cell_type": "code",
   "execution_count": 64,
   "metadata": {},
   "outputs": [],
   "source": [
    "# That's better. Now, let's add each genre/cast/crew/keyword to the dataset as a binary column.\n",
    "\n",
    "def addBinaryColumnsToDataframe(listOfKeywords, columnName):\n",
    "    for keyword in listOfKeywords:\n",
    "        newColName = \"has_{}\".format(keyword)\n",
    "        df[newColName] = df.apply(lambda row: 1 if keyword in row[columnName] else 0, axis = 1)\n",
    "\n",
    "addBinaryColumnsToDataframe(short_genres, \"genres\")\n",
    "addBinaryColumnsToDataframe(short_keys, \"keywords\")\n",
    "addBinaryColumnsToDataframe(short_crews, \"crew\")\n",
    "addBinaryColumnsToDataframe(short_casts, \"cast\")\n"
   ]
  },
  {
   "cell_type": "code",
   "execution_count": 65,
   "metadata": {},
   "outputs": [],
   "source": [
    "# Preparing the dataset for being used. First let's get rif off some useless columns and let the vote_average column at the end\n",
    "\n",
    "df = df[ [ col for col in df.columns if col != 'vote_average' ] + ['vote_average']]\n",
    "df_test = df\n",
    "\n",
    "not_usefull_Columns = ['title',\n",
    "    'release_date',\n",
    "    'original_language',\n",
    "    'runtime',\n",
    "    'genres',\n",
    "    'keywords',\n",
    "    'cast',\n",
    "    'crew']\n",
    "\n",
    "for columnName in not_usefull_Columns:\n",
    "    df_test.pop(columnName)\n",
    "\n",
    "lastColumnIndex = len(list(df_test)) - 1\n",
    "\n",
    "X = df_test.iloc[:, 1:lastColumnIndex].values\n",
    "y = df_test.iloc[:, lastColumnIndex ].values\n",
    "\n",
    "# Split the dataset into the Training set and Test set\n",
    "from sklearn.model_selection import train_test_split\n",
    "X_train, X_test, y_train, y_test = train_test_split(X, y, test_size = 0.2, random_state = 0)\n",
    "\n",
    "\n"
   ]
  },
  {
   "cell_type": "code",
   "execution_count": 66,
   "metadata": {},
   "outputs": [],
   "source": [
    "# Feature Scaling\n",
    "from sklearn.preprocessing import StandardScaler\n",
    "sc_X = StandardScaler()\n",
    "X_train = sc_X.fit_transform(X_train)\n",
    "X_test = sc_X.transform(X_test)\n",
    "sc_y = StandardScaler()\n",
    "y_train = sc_y.fit_transform(y_train.reshape(-1,1))\n",
    "y_test = sc_y.fit_transform(y_test.reshape(-1,1))\n"
   ]
  },
  {
   "cell_type": "code",
   "execution_count": 67,
   "metadata": {},
   "outputs": [],
   "source": [
    "# Simple prediction summary\n",
    "def getFittingSummary(regressor):\n",
    "    predictions = regressor.predict(X_test)\n",
    "    errorsSquared = (predictions - y_test) ** 2\n",
    "    \n",
    "    print('Mean Squared Error:', round(np.mean(errorsSquared), 2), 'degrees.')\n",
    "\n",
    "    score = regressor.score(X_test, y_test)\n",
    "    print('R2:', round(score, 3))"
   ]
  },
  {
   "cell_type": "code",
   "execution_count": 69,
   "metadata": {},
   "outputs": [
    {
     "output_type": "stream",
     "name": "stdout",
     "text": [
      "Decision Tree Regression\nMean Squared Error: 2.05 degrees.\nR2: 0.133\n"
     ]
    }
   ],
   "source": [
    "# Fitting DecisionTreeRegressor to the dataset\n",
    "from sklearn.tree import DecisionTreeRegressor\n",
    "print(\"Decision Tree Regression\")\n",
    "\n",
    "regressor = DecisionTreeRegressor(random_state = 0)\n",
    "regressor.fit(X_train, y_train)\n",
    "getFittingSummary(regressor)\n"
   ]
  },
  {
   "cell_type": "code",
   "execution_count": 68,
   "metadata": {},
   "outputs": [
    {
     "output_type": "stream",
     "name": "stdout",
     "text": [
      "Random Forest Regression\n",
      "Mean Squared Error: 1.49 degrees.\n",
      "R2: 0.555\n"
     ]
    }
   ],
   "source": [
    "# Fitting Random Forest Regression to the dataset\n",
    "from sklearn.ensemble import RandomForestRegressor\n",
    "print(\"Random Forest Regression\")\n",
    "regressor = RandomForestRegressor(n_estimators = 100, random_state = 0)\n",
    "regressor.fit(X_train, y_train)\n",
    "getFittingSummary(regressor)"
   ]
  },
  {
   "cell_type": "code",
   "execution_count": 70,
   "metadata": {},
   "outputs": [
    {
     "output_type": "stream",
     "name": "stdout",
     "text": [
      "Support Vector Regression\n",
      "Mean Squared Error: 1.31 degrees.\n",
      "R2: 0.412\n"
     ]
    }
   ],
   "source": [
    "# Fitting SVR to the dataset\n",
    "from sklearn.svm import SVR\n",
    "print(\"Support Vector Regression\")\n",
    "regressor = SVR(kernel = 'rbf')\n",
    "regressor.fit(X_train, y_train)\n",
    "getFittingSummary(regressor)"
   ]
  },
  {
   "source": [
    "\"\"\"\n",
    "In summary, we have made some regression models to predict the socre of a movie given de IMDB information, such as crew memenber, cast, genres, budget, among others. \n",
    "\n",
    "The best model of the three tested is the Random Forest Regression.\n",
    "\n",
    "\"\"\"\n",
    "print(\"Thanks for reading\")"
   ],
   "cell_type": "code",
   "metadata": {},
   "execution_count": 7,
   "outputs": [
    {
     "output_type": "stream",
     "name": "stdout",
     "text": [
      "Thanks for reading\n"
     ]
    }
   ]
  }
 ]
}