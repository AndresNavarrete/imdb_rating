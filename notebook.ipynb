{
 "metadata": {
  "language_info": {
   "codemirror_mode": {
    "name": "ipython",
    "version": 3
   },
   "file_extension": ".py",
   "mimetype": "text/x-python",
   "name": "python",
   "nbconvert_exporter": "python",
   "pygments_lexer": "ipython3",
   "version": "3.9.9-final"
  },
  "orig_nbformat": 2,
  "kernelspec": {
   "name": "python3",
   "display_name": "Python 3.9.9 64-bit",
   "metadata": {
    "interpreter": {
     "hash": "ac2eaa0ea0ebeafcc7822e65e46aa9d4f966f30b695406963e145ea4a91cd4fc"
    }
   }
  }
 },
 "nbformat": 4,
 "nbformat_minor": 2,
 "cells": [
  {
   "cell_type": "code",
   "execution_count": 84,
   "metadata": {},
   "outputs": [],
   "source": [
    "import pandas as pd \n",
    "import numpy as np\n",
    "import json"
   ]
  },
  {
   "cell_type": "code",
   "execution_count": 285,
   "metadata": {},
   "outputs": [],
   "source": [
    "\n",
    "def getDatabase():\n",
    "    credits = pd.read_csv('data/tmdb_5000_credits.csv')\n",
    "    movies = pd.read_csv('data/tmdb_5000_movies.csv')\n",
    "\n",
    "    credits.columns = ['id','tittle','cast','crew']\n",
    "    movies = movies.merge(credits,on='id')\n",
    "    return movies\n",
    "\n",
    "def cleanDatabase(movies):\n",
    "    movies_clean = movies[movies[\"vote_count\"] > 100]\n",
    "    movies_clean[\"genres\"] = movies_clean.apply(lambda row: getIds(row[\"genres\"]), axis = 1)\n",
    "    movies_clean[\"keywords\"] = movies_clean.apply(lambda row: getIds(row[\"keywords\"]), axis = 1)\n",
    "    movies_clean[\"cast\"] = movies_clean.apply(lambda row: getIds(row[\"cast\"]), axis = 1)\n",
    "    movies_clean[\"crew\"] = movies_clean.apply(lambda row: getIds(row[\"crew\"]), axis = 1)\n",
    "\n",
    "    useful_headers = ['id',\n",
    "    'title',\n",
    "    'original_language',\n",
    "    'budget',\n",
    "    'popularity',\n",
    "    'runtime',\n",
    "    'release_date',\n",
    "    'genres',\n",
    "    'keywords',\n",
    "    'cast',\n",
    "    'crew',\n",
    "    'vote_count',\n",
    "    'vote_average']\n",
    "    return movies_clean[useful_headers]\n",
    "\n",
    "\n",
    "def getIds(listOfDict):\n",
    "    listOfDict = json.loads(listOfDict)\n",
    "    output = list()\n",
    "    for dictionary in listOfDict:\n",
    "        name = dictionary[\"name\"]\n",
    "        nameShort = name.lower()\n",
    "        nameShort = nameShort.replace(\" \",\"\")\n",
    "        if nameShort in output:\n",
    "            continue\n",
    "        output.append(nameShort)\n",
    "    return output\n",
    "\n",
    "\n"
   ]
  },
  {
   "cell_type": "code",
   "execution_count": 102,
   "metadata": {},
   "outputs": [],
   "source": [
    "movies = getDatabase()\n"
   ]
  },
  {
   "cell_type": "code",
   "execution_count": 286,
   "metadata": {},
   "outputs": [],
   "source": [
    "df = cleanDatabase(movies)"
   ]
  },
  {
   "cell_type": "code",
   "execution_count": 140,
   "metadata": {
    "tags": []
   },
   "outputs": [],
   "source": [
    "def getAllElementsFrom(columnName):\n",
    "    output = []\n",
    "    for listOfElements in df[columnName]:\n",
    "        for element in listOfElements:\n",
    "            if element in output:\n",
    "                continue\n",
    "            output.append(element)\n",
    "    return output\n",
    "\n",
    "\n",
    "genres = getAllElementsFrom(\"genres\")\n",
    "keys = getAllElementsFrom(\"keywords\")\n",
    "crews = getAllElementsFrom(\"crew\")\n",
    "casts = getAllElementsFrom(\"cast\")\n",
    "\n",
    "df = df[ [ col for col in df.columns if col != 'vote_average' ] + ['vote_average']]"
   ]
  },
  {
   "cell_type": "code",
   "execution_count": 145,
   "metadata": {},
   "outputs": [
    {
     "output_type": "stream",
     "name": "stdout",
     "text": [
      "Genres: 19\nkeys: 7998\ncrews: 41316\ncasts: 40516\n"
     ]
    }
   ],
   "source": [
    "print(\"Genres: {}\".format(len(genres)))\n",
    "print(\"keys: {}\".format(len(keys)))\n",
    "print(\"crews: {}\".format(len(crews)))\n",
    "print(\"casts: {}\".format(len(casts)))"
   ]
  },
  {
   "cell_type": "code",
   "execution_count": 287,
   "metadata": {},
   "outputs": [],
   "source": [
    "for genre in genres:\n",
    "    newColName = \"has_{}\".format(genre)\n",
    "    df[newColName] = df.apply(lambda row: 1 if genre in row[\"genres\"] else 0, axis = 1)\n",
    "df = df[ [ col for col in df.columns if col != 'vote_average' ] + ['vote_average']]"
   ]
  },
  {
   "cell_type": "code",
   "execution_count": 288,
   "metadata": {},
   "outputs": [],
   "source": [
    "usefull_Columns = ['id',\n",
    "    'budget',\n",
    "    'popularity',\n",
    "    'runtime',\n",
    "    'vote_count',\n",
    "    'has_action',\n",
    "    'has_adventure',\n",
    "    'has_fantasy',\n",
    "    'has_sciencefiction',\n",
    "    'has_crime',\n",
    "    'has_drama',\n",
    "    'has_thriller',\n",
    "    'has_animation',\n",
    "    'has_family',\n",
    "    'has_western',\n",
    "    'has_comedy',\n",
    "    'has_romance',\n",
    "    'has_horror',\n",
    "    'has_mystery',\n",
    "    'has_history',\n",
    "    'has_war',\n",
    "    'has_music',\n",
    "    'has_documentary',\n",
    "    'has_tvmovie',\n",
    "    'vote_average']\n",
    "\n",
    "df_test = df[usefull_Columns]\n",
    "\n",
    "lastColumnIndex = len(list(df_test)) - 1\n",
    "\n",
    "X = df_test.iloc[:, 1:lastColumnIndex].values\n",
    "y = df_test.iloc[:, lastColumnIndex ].values\n",
    "\n",
    "# Splitting the dataset into the Training set and Test set\n",
    "from sklearn.model_selection import train_test_split\n",
    "X_train, X_test, y_train, y_test = train_test_split(X, y, test_size = 0.2, random_state = 0)\n",
    "\n",
    "\n"
   ]
  },
  {
   "cell_type": "code",
   "execution_count": 289,
   "metadata": {},
   "outputs": [],
   "source": [
    "# Feature Scaling\n",
    "from sklearn.preprocessing import StandardScaler\n",
    "sc_X = StandardScaler()\n",
    "X_train = sc_X.fit_transform(X_train)\n",
    "X_test = sc_X.transform(X_test)\n",
    "sc_y = StandardScaler()\n",
    "y_train = sc_y.fit_transform(y_train.reshape(-1,1))\n",
    "y_test = sc_y.fit_transform(y_test.reshape(-1,1))\n",
    "\n",
    "\n"
   ]
  },
  {
   "cell_type": "code",
   "execution_count": 290,
   "metadata": {},
   "outputs": [
    {
     "output_type": "execute_result",
     "data": {
      "text/plain": [
       "RandomForestRegressor(random_state=0)"
      ]
     },
     "metadata": {},
     "execution_count": 290
    }
   ],
   "source": [
    "# Fitting Random Forest Regression to the dataset\n",
    "from sklearn.ensemble import RandomForestRegressor\n",
    "regressor = RandomForestRegressor(n_estimators = 100, random_state = 0)\n",
    "regressor.fit(X_train, y_train)"
   ]
  },
  {
   "cell_type": "code",
   "execution_count": 292,
   "metadata": {},
   "outputs": [
    {
     "output_type": "execute_result",
     "data": {
      "text/plain": [
       "SVR()"
      ]
     },
     "metadata": {},
     "execution_count": 292
    }
   ],
   "source": [
    "# Fitting SVR to the dataset\n",
    "from sklearn.svm import SVR\n",
    "regressor = SVR(kernel = 'rbf')\n",
    "regressor.fit(X_train, y_train)"
   ]
  },
  {
   "cell_type": "code",
   "execution_count": 293,
   "metadata": {},
   "outputs": [
    {
     "output_type": "stream",
     "name": "stdout",
     "text": [
      "Mean Absolute Error: 0.99 degrees.\n",
      "Accuracy: 244.48 %.\n",
      "R2: 0.525\n"
     ]
    }
   ],
   "source": [
    "# Use the forest's predict method on the test data\n",
    "predictions = regressor.predict(X_test)\n",
    "# Calculate the absolute errors\n",
    "errors = abs(predictions - y_test)\n",
    "# Print out the mean absolute error (mae)\n",
    "print('Mean Absolute Error:', round(np.mean(errors), 2), 'degrees.')\n",
    "\n",
    "# Calculate mean absolute percentage error (MAPE)\n",
    "mape = 100 * (errors / y_test)\n",
    "# Calculate and display accuracy\n",
    "accuracy = 100 - np.mean(mape)\n",
    "print('Accuracy:', round(accuracy, 2), '%.')\n",
    "\n",
    "score = regressor.score(X_test, y_test)\n",
    "print('R2:', round(score, 3))\n"
   ]
  },
  {
   "cell_type": "code",
   "execution_count": 295,
   "metadata": {},
   "outputs": [
    {
     "output_type": "execute_result",
     "data": {
      "text/plain": [
       "3150"
      ]
     },
     "metadata": {},
     "execution_count": 295
    }
   ],
   "source": [
    "len(df_test)"
   ]
  },
  {
   "cell_type": "code",
   "execution_count": null,
   "metadata": {},
   "outputs": [],
   "source": []
  }
 ]
}